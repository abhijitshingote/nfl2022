{
 "cells": [
  {
   "cell_type": "code",
   "execution_count": 12,
   "id": "9e546d89-a131-4fc4-8914-1980e2f66cf7",
   "metadata": {},
   "outputs": [],
   "source": [
    "from app import app,db\n",
    "from app.models import Team,Game\n",
    "import requests\n",
    "from datetime import datetime\n",
    "import time"
   ]
  },
  {
   "cell_type": "code",
   "execution_count": 2,
   "id": "ddf96072-d119-401e-88de-414bb86e3e66",
   "metadata": {},
   "outputs": [],
   "source": [
    "with app.app_context():\n",
    "    db.create_all()\n",
    "    res=Team.query.all()"
   ]
  },
  {
   "cell_type": "code",
   "execution_count": 3,
   "id": "9d90d944-5d0b-45fd-a823-cae9af15e38a",
   "metadata": {},
   "outputs": [],
   "source": [
    "def add_Teams():\n",
    "    response=requests.get('https://sports.core.api.espn.com/v2/sports/football/leagues/nfl/teams?limit=32').json()['items']\n",
    "    teams=[]\n",
    "    for i,r in enumerate(response):\n",
    "        response=requests.get(r['$ref']).json()\n",
    "        team=Team(team_id=response['id'],\n",
    "                  team_location=response['location'],\n",
    "             team_name=response['name'],\n",
    "             logo_href=response['logos'][0]['href'])\n",
    "        with app.app_context():\n",
    "            db.session.add(team)\n",
    "            db.session.commit()"
   ]
  },
  {
   "cell_type": "code",
   "execution_count": 4,
   "id": "afa53953-79c8-4aff-a3de-24a0cbb82edf",
   "metadata": {},
   "outputs": [],
   "source": [
    "# add_Teams()"
   ]
  },
  {
   "cell_type": "code",
   "execution_count": 13,
   "id": "97c53f65-f67f-45a8-a6f8-dffebbbdf601",
   "metadata": {},
   "outputs": [],
   "source": [
    "def add_Games():\n",
    "    with app.app_context():\n",
    "        for team in Team.query.all():\n",
    "            print(f'Processing {team.team_location + team.team_name}') \n",
    "            response=requests.get(f'https://sports.core.api.espn.com/v2/sports/football/leagues/nfl/seasons/2022/teams/{team.team_id}/events')\n",
    "            for event in response.json()['items']:\n",
    "                resp=requests.get(event['$ref']).json()\n",
    "                game_id = resp['id']\n",
    "                if game_id not in [g.game_id for g in Game.query.all()]:\n",
    "                    season_type = resp['competitions'][0]['type']['abbreviation']\n",
    "                    game_number = ''\n",
    "                    game_name = resp['name']\n",
    "                    game_date = datetime.strptime(resp['date'],'%Y-%m-%dT%H:%MZ')\n",
    "                    if resp['competitions'][0]['competitors'][0]['homeAway']=='home':\n",
    "                        home_team_id=resp['competitions'][0]['competitors'][0]['id']\n",
    "                        away_team_id=resp['competitions'][0]['competitors'][1]['id']\n",
    "                    else:\n",
    "                        home_team_id=resp['competitions'][0]['competitors'][1]['id']\n",
    "                        away_team_id=resp['competitions'][0]['competitors'][0]['id']\n",
    "                    game=Game(game_id=game_id,\n",
    "                              season_type=season_type,\n",
    "                              game_number=game_number,\n",
    "                              game_name=game_name,\n",
    "                              game_date=game_date,\n",
    "                              home_team_id=home_team_id,\n",
    "                              away_team_id=away_team_id\n",
    "                             )\n",
    "                    db.session.add(game)\n",
    "                    db.session.commit()\n",
    "                    time.sleep(2)"
   ]
  },
  {
   "cell_type": "code",
   "execution_count": 14,
   "id": "b692a0b3-fbd1-43fc-a385-6507ded41d71",
   "metadata": {},
   "outputs": [],
   "source": [
    "add_Games()"
   ]
  },
  {
   "cell_type": "code",
   "execution_count": null,
   "id": "e32f43d4-9832-459f-bb98-ecdaf845e72b",
   "metadata": {},
   "outputs": [],
   "source": []
  }
 ],
 "metadata": {
  "kernelspec": {
   "display_name": "Python 3 (ipykernel)",
   "language": "python",
   "name": "python3"
  },
  "language_info": {
   "codemirror_mode": {
    "name": "ipython",
    "version": 3
   },
   "file_extension": ".py",
   "mimetype": "text/x-python",
   "name": "python",
   "nbconvert_exporter": "python",
   "pygments_lexer": "ipython3",
   "version": "3.10.6"
  }
 },
 "nbformat": 4,
 "nbformat_minor": 5
}
